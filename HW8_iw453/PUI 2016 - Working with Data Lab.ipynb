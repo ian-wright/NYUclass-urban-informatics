{
 "cells": [
  {
   "cell_type": "markdown",
   "metadata": {},
   "source": [
    "## PUI 2016 HOMEWORK 8\n",
    "#### Ian Wright, iw453\n",
    "#### November 2016"
   ]
  },
  {
   "cell_type": "markdown",
   "metadata": {},
   "source": [
    "# Working with Data - Computer Lab for Guest Lecture Julia Lane\n",
    "\n",
    "In this computer lab we will learn more more details and practice data work to enhance the content of the lecture presented by Julia Lane on responsible data use. We will address a research question, think about data and measurement errors, and manipulate data. \n",
    "\n",
    "OUTLINE: \n",
    "1. Define a research question \n",
    "2. Think about what data are available \n",
    "3. Think about possible measurement errors \n",
    "4. Think about the interpretation of your results \n",
    "5. Inform your results by linking datasets "
   ]
  },
  {
   "cell_type": "markdown",
   "metadata": {
    "raw_mimetype": "text/markdown"
   },
   "source": [
    "# 1. Define a reserach question\n",
    "Which Community Districts in NYC show the highest number of complaints?\n",
    "\n",
    "# 2. Think about what data are available\n",
    "Find suitable data by searching the CUSP Data Catalog https://datahub.cusp.nyu.edu/catalog. You can use Urban Profiler to investigate the Metadata associated with each dataset. Using this tool will help you to decide which attributes of the data you need to answer your question so you don't have to load the entire dataset. "
   ]
  },
  {
   "cell_type": "code",
   "execution_count": 226,
   "metadata": {
    "collapsed": false
   },
   "outputs": [
    {
     "name": "stdout",
     "output_type": "stream",
     "text": [
      "Populating the interactive namespace from numpy and matplotlib\n",
      "/Users/ian/school/hw/PUI2016/PUIDATA\n"
     ]
    }
   ],
   "source": [
    "import os\n",
    "import pandas as pd\n",
    "import numpy as np\n",
    "import re\n",
    "import matplotlib as plt\n",
    "plt.style.use('ggplot')\n",
    "%pylab inline\n",
    "PUIdata = os.getenv('PUIDATA')\n",
    "print PUIdata"
   ]
  },
  {
   "cell_type": "code",
   "execution_count": 151,
   "metadata": {
    "collapsed": false
   },
   "outputs": [
    {
     "data": {
      "text/plain": [
       "Index([u'Unique Key', u'Complaint Type', u'Resolution Description',\n",
       "       u'Community Board', u'Borough'],\n",
       "      dtype='object')"
      ]
     },
     "execution_count": 151,
     "metadata": {},
     "output_type": "execute_result"
    }
   ],
   "source": [
    "# Load dataset\n",
    "df = pd.read_csv(PUIdata + \"/311_Service_Requests_from_2010_to_Present.csv\" , usecols=[0, 5, 21, 23, 24])\n",
    "df.columns\n",
    "# 'https://data.cityofnewyork.us/resource/erm2-nwe9.csv'"
   ]
  },
  {
   "cell_type": "code",
   "execution_count": 152,
   "metadata": {
    "collapsed": false
   },
   "outputs": [
    {
     "data": {
      "text/html": [
       "<div>\n",
       "<table border=\"1\" class=\"dataframe\">\n",
       "  <thead>\n",
       "    <tr style=\"text-align: right;\">\n",
       "      <th></th>\n",
       "      <th>Unique Key</th>\n",
       "      <th>Complaint Type</th>\n",
       "      <th>Resolution Description</th>\n",
       "      <th>Community Board</th>\n",
       "      <th>Borough</th>\n",
       "    </tr>\n",
       "  </thead>\n",
       "  <tbody>\n",
       "    <tr>\n",
       "      <th>0</th>\n",
       "      <td>34212771</td>\n",
       "      <td>Noise - Residential</td>\n",
       "      <td>The Police Department responded to the complai...</td>\n",
       "      <td>13 QUEENS</td>\n",
       "      <td>QUEENS</td>\n",
       "    </tr>\n",
       "    <tr>\n",
       "      <th>1</th>\n",
       "      <td>34212392</td>\n",
       "      <td>Blocked Driveway</td>\n",
       "      <td>The Police Department reviewed your complaint ...</td>\n",
       "      <td>12 BRONX</td>\n",
       "      <td>BRONX</td>\n",
       "    </tr>\n",
       "    <tr>\n",
       "      <th>2</th>\n",
       "      <td>34214520</td>\n",
       "      <td>Blocked Driveway</td>\n",
       "      <td>The Police Department responded and upon arriv...</td>\n",
       "      <td>03 QUEENS</td>\n",
       "      <td>QUEENS</td>\n",
       "    </tr>\n",
       "    <tr>\n",
       "      <th>3</th>\n",
       "      <td>34212483</td>\n",
       "      <td>Blocked Driveway</td>\n",
       "      <td>The Police Department issued a summons in resp...</td>\n",
       "      <td>12 BRONX</td>\n",
       "      <td>BRONX</td>\n",
       "    </tr>\n",
       "    <tr>\n",
       "      <th>4</th>\n",
       "      <td>34214231</td>\n",
       "      <td>Street Condition</td>\n",
       "      <td>The Department of Transportation inspected thi...</td>\n",
       "      <td>12 MANHATTAN</td>\n",
       "      <td>MANHATTAN</td>\n",
       "    </tr>\n",
       "  </tbody>\n",
       "</table>\n",
       "</div>"
      ],
      "text/plain": [
       "   Unique Key       Complaint Type  \\\n",
       "0    34212771  Noise - Residential   \n",
       "1    34212392     Blocked Driveway   \n",
       "2    34214520     Blocked Driveway   \n",
       "3    34212483     Blocked Driveway   \n",
       "4    34214231     Street Condition   \n",
       "\n",
       "                              Resolution Description Community Board  \\\n",
       "0  The Police Department responded to the complai...       13 QUEENS   \n",
       "1  The Police Department reviewed your complaint ...        12 BRONX   \n",
       "2  The Police Department responded and upon arriv...       03 QUEENS   \n",
       "3  The Police Department issued a summons in resp...        12 BRONX   \n",
       "4  The Department of Transportation inspected thi...    12 MANHATTAN   \n",
       "\n",
       "     Borough  \n",
       "0     QUEENS  \n",
       "1      BRONX  \n",
       "2     QUEENS  \n",
       "3      BRONX  \n",
       "4  MANHATTAN  "
      ]
     },
     "execution_count": 152,
     "metadata": {},
     "output_type": "execute_result"
    }
   ],
   "source": [
    "df.head()"
   ]
  },
  {
   "cell_type": "markdown",
   "metadata": {},
   "source": [
    "# 3. Think about possible measurement errors\n",
    "Do you see any problems regarding possible measurement error? Think about who is represented in the data, ommissions, duplications, content error, missing data, etc. "
   ]
  },
  {
   "cell_type": "code",
   "execution_count": 153,
   "metadata": {
    "collapsed": false
   },
   "outputs": [
    {
     "name": "stdout",
     "output_type": "stream",
     "text": [
      "['QUEENS' 'BRONX' 'MANHATTAN' 'BROOKLYN' 'Unspecified' 'STATEN ISLAND']\n",
      "['13 QUEENS' '12 BRONX' '03 QUEENS' '12 MANHATTAN' '09 MANHATTAN'\n",
      " '08 QUEENS' '01 QUEENS' '07 BRONX' '01 BROOKLYN' '03 MANHATTAN'\n",
      " '09 QUEENS' '05 BRONX' '03 BROOKLYN' '07 MANHATTAN' '12 BROOKLYN'\n",
      " '0 Unspecified' '09 BROOKLYN' '07 QUEENS' '15 BROOKLYN' '08 MANHATTAN'\n",
      " '10 BROOKLYN' '08 BROOKLYN' '04 MANHATTAN' '02 MANHATTAN' '12 QUEENS'\n",
      " '04 BRONX' '04 BROOKLYN' '01 BRONX' 'Unspecified MANHATTAN' '10 QUEENS'\n",
      " '18 BROOKLYN' '11 BROOKLYN' '10 MANHATTAN' '11 QUEENS' '16 BROOKLYN'\n",
      " '05 BROOKLYN' '05 MANHATTAN' '55 BROOKLYN' '08 BRONX' '09 BRONX'\n",
      " '17 BROOKLYN' '01 MANHATTAN' '05 QUEENS' '06 QUEENS' '02 BRONX' '11 BRONX'\n",
      " '04 QUEENS' 'Unspecified BROOKLYN' '02 QUEENS' '01 STATEN ISLAND'\n",
      " '03 STATEN ISLAND' '14 BROOKLYN' '07 BROOKLYN' '02 STATEN ISLAND'\n",
      " '10 BRONX' '11 MANHATTAN' '06 BROOKLYN' '13 BROOKLYN' '06 MANHATTAN'\n",
      " 'Unspecified BRONX' '02 BROOKLYN' '06 BRONX' '14 QUEENS' '03 BRONX'\n",
      " '83 QUEENS' 'Unspecified QUEENS' 'Unspecified STATEN ISLAND' '80 QUEENS'\n",
      " '82 QUEENS' '81 QUEENS' '95 STATEN ISLAND' '64 MANHATTAN' '26 BRONX'\n",
      " '27 BRONX']\n"
     ]
    }
   ],
   "source": [
    "# Check if all Boroughs and Community Districts are represented in the Data \n",
    "print df['Borough'].unique()\n",
    "print df['Community Board'].unique()"
   ]
  },
  {
   "cell_type": "code",
   "execution_count": 155,
   "metadata": {
    "collapsed": false
   },
   "outputs": [
    {
     "name": "stdout",
     "output_type": "stream",
     "text": [
      "6 boroughs\n",
      "74 community districts\n"
     ]
    }
   ],
   "source": [
    "# How many unique values do we have? \n",
    "print len(df['Borough'].unique()), 'boroughs'\n",
    "print len(df['Community Board'].unique()), 'community districts'"
   ]
  },
  {
   "cell_type": "code",
   "execution_count": 8,
   "metadata": {
    "collapsed": false
   },
   "outputs": [],
   "source": [
    "# Why do we have so many? Some of them are unspecified, missing. Some might be invalid entries. \n",
    "# We should have 59 Community Districts."
   ]
  },
  {
   "cell_type": "markdown",
   "metadata": {},
   "source": [
    "Looks like we have some garbage values in both the 'Borough' and 'Community Board' coloumns. Garbage values seem to have the string 'Unspecified' in them."
   ]
  },
  {
   "cell_type": "code",
   "execution_count": 156,
   "metadata": {
    "collapsed": false
   },
   "outputs": [
    {
     "name": "stdout",
     "output_type": "stream",
     "text": [
      "5 boroughs\n",
      "68 community districts\n"
     ]
    }
   ],
   "source": [
    "print len(df[~df['Borough'].str.contains('Unspecified')]['Borough'].unique()), 'boroughs'\n",
    "print len(df[~df['Community Board'].str.contains('Unspecified')]['Community Board'].unique()), 'community districts'"
   ]
  },
  {
   "cell_type": "code",
   "execution_count": 161,
   "metadata": {
    "collapsed": false
   },
   "outputs": [
    {
     "data": {
      "text/plain": [
       "array(['01 BRONX', '01 BROOKLYN', '01 MANHATTAN', '01 QUEENS',\n",
       "       '01 STATEN ISLAND', '02 BRONX', '02 BROOKLYN', '02 MANHATTAN',\n",
       "       '02 QUEENS', '02 STATEN ISLAND', '03 BRONX', '03 BROOKLYN',\n",
       "       '03 MANHATTAN', '03 QUEENS', '03 STATEN ISLAND', '04 BRONX',\n",
       "       '04 BROOKLYN', '04 MANHATTAN', '04 QUEENS', '05 BRONX',\n",
       "       '05 BROOKLYN', '05 MANHATTAN', '05 QUEENS', '06 BRONX',\n",
       "       '06 BROOKLYN', '06 MANHATTAN', '06 QUEENS', '07 BRONX',\n",
       "       '07 BROOKLYN', '07 MANHATTAN', '07 QUEENS', '08 BRONX',\n",
       "       '08 BROOKLYN', '08 MANHATTAN', '08 QUEENS', '09 BRONX',\n",
       "       '09 BROOKLYN', '09 MANHATTAN', '09 QUEENS', '10 BRONX',\n",
       "       '10 BROOKLYN', '10 MANHATTAN', '10 QUEENS', '11 BRONX',\n",
       "       '11 BROOKLYN', '11 MANHATTAN', '11 QUEENS', '12 BRONX',\n",
       "       '12 BROOKLYN', '12 MANHATTAN', '12 QUEENS', '13 BROOKLYN',\n",
       "       '13 QUEENS', '14 BROOKLYN', '14 QUEENS', '15 BROOKLYN',\n",
       "       '16 BROOKLYN', '17 BROOKLYN', '18 BROOKLYN', '26 BRONX', '27 BRONX',\n",
       "       '55 BROOKLYN', '64 MANHATTAN', '80 QUEENS', '81 QUEENS',\n",
       "       '82 QUEENS', '83 QUEENS', '95 STATEN ISLAND'], dtype=object)"
      ]
     },
     "execution_count": 161,
     "metadata": {},
     "output_type": "execute_result"
    }
   ],
   "source": [
    "# still too many community districts here...\n",
    "\n",
    "# manhattan should go up to 12\n",
    "# brooklyn should go up to 18\n",
    "# queens should go up to 14\n",
    "# bronx should go up to 12\n",
    "# staten should go up to 3\n",
    "np.sort(df[~df['Community Board'].str.contains('Unspecified')]['Community Board'].unique())"
   ]
  },
  {
   "cell_type": "code",
   "execution_count": 174,
   "metadata": {
    "collapsed": false
   },
   "outputs": [],
   "source": [
    "bad_districts = ['64 MANHATTAN', '55 BROOKLYN', '80 QUEENS', '81 QUEENS',\n",
    "                 '82 QUEENS', '83 QUEENS', '26 BRONX', '27 BRONX', '95 STATEN ISLAND']"
   ]
  },
  {
   "cell_type": "code",
   "execution_count": 164,
   "metadata": {
    "collapsed": false
   },
   "outputs": [
    {
     "data": {
      "text/plain": [
       "0"
      ]
     },
     "execution_count": 164,
     "metadata": {},
     "output_type": "execute_result"
    }
   ],
   "source": [
    "# Check for duplicates? Are these plausible?\n",
    "df.duplicated().sum()"
   ]
  },
  {
   "cell_type": "markdown",
   "metadata": {},
   "source": [
    "No duplicate records."
   ]
  },
  {
   "cell_type": "code",
   "execution_count": 165,
   "metadata": {
    "collapsed": false
   },
   "outputs": [
    {
     "data": {
      "text/plain": [
       "1807"
      ]
     },
     "execution_count": 165,
     "metadata": {},
     "output_type": "execute_result"
    }
   ],
   "source": [
    "# What about missing values? Can you detect any patterns? \n",
    "# count the null/NA values in 'Resolution Description' column\n",
    "df['Resolution Description'].isnull().sum()"
   ]
  },
  {
   "cell_type": "code",
   "execution_count": 166,
   "metadata": {
    "collapsed": true
   },
   "outputs": [],
   "source": [
    "# Data Editing: Is it possible to replace missing values? Is it possible to use Complaint Type \n",
    "# to fill missings in Resolution Descriptor?\n",
    "df.ix[df['Resolution Description'].isnull(), 'Resolution Description'] = \\\n",
    "df.ix[df['Resolution Description'].isnull(), 'Complaint Type']"
   ]
  },
  {
   "cell_type": "code",
   "execution_count": 167,
   "metadata": {
    "collapsed": false
   },
   "outputs": [
    {
     "data": {
      "text/plain": [
       "0"
      ]
     },
     "execution_count": 167,
     "metadata": {},
     "output_type": "execute_result"
    }
   ],
   "source": [
    "# check again for NULL/NA in 'Resolution Description' column\n",
    "df['Resolution Description'].isnull().sum()"
   ]
  },
  {
   "cell_type": "code",
   "execution_count": null,
   "metadata": {
    "collapsed": false
   },
   "outputs": [],
   "source": [
    "# Generate marker for unplausible Community Districts\n",
    "# How do these districts look like? "
   ]
  },
  {
   "cell_type": "markdown",
   "metadata": {},
   "source": [
    "See above re: 'Unspecified' strings, and community districts with numbers out of reasonable range (\"bad districts\")"
   ]
  },
  {
   "cell_type": "code",
   "execution_count": 175,
   "metadata": {
    "collapsed": false
   },
   "outputs": [],
   "source": [
    "# Drop the marked districts\n",
    "df.drop(df[df['Borough'].str.contains('Unspecified')].index, axis=0, inplace=True)\n",
    "df.drop(df[df['Community Board'].str.contains('Unspecified')].index, axis=0, inplace=True)\n",
    "df.drop(df[map(lambda comm: comm in bad_districts, df['Community Board'])].index, axis=0, inplace=True)"
   ]
  },
  {
   "cell_type": "code",
   "execution_count": 176,
   "metadata": {
    "collapsed": false
   },
   "outputs": [
    {
     "data": {
      "text/html": [
       "<div>\n",
       "<table border=\"1\" class=\"dataframe\">\n",
       "  <thead>\n",
       "    <tr style=\"text-align: right;\">\n",
       "      <th></th>\n",
       "      <th>complaint_count</th>\n",
       "    </tr>\n",
       "    <tr>\n",
       "      <th>Community Board</th>\n",
       "      <th></th>\n",
       "    </tr>\n",
       "  </thead>\n",
       "  <tbody>\n",
       "    <tr>\n",
       "      <th>02 BRONX</th>\n",
       "      <td>219</td>\n",
       "    </tr>\n",
       "    <tr>\n",
       "      <th>13 BROOKLYN</th>\n",
       "      <td>261</td>\n",
       "    </tr>\n",
       "    <tr>\n",
       "      <th>01 BRONX</th>\n",
       "      <td>280</td>\n",
       "    </tr>\n",
       "    <tr>\n",
       "      <th>06 QUEENS</th>\n",
       "      <td>289</td>\n",
       "    </tr>\n",
       "    <tr>\n",
       "      <th>03 BRONX</th>\n",
       "      <td>294</td>\n",
       "    </tr>\n",
       "  </tbody>\n",
       "</table>\n",
       "</div>"
      ],
      "text/plain": [
       "                 complaint_count\n",
       "Community Board                 \n",
       "02 BRONX                     219\n",
       "13 BROOKLYN                  261\n",
       "01 BRONX                     280\n",
       "06 QUEENS                    289\n",
       "03 BRONX                     294"
      ]
     },
     "execution_count": 176,
     "metadata": {},
     "output_type": "execute_result"
    }
   ],
   "source": [
    "# Produce your result: Generate an indicator which ranks the Community District by complaint numbers \n",
    "# on the Community district level\n",
    "comm_df = pd.DataFrame(df.groupby(df['Community Board']).count().loc[:, 'Unique Key'])\n",
    "comm_df.columns = ['complaint_count']\n",
    "comm_df = comm_df.sort_values('complaint_count')\n",
    "comm_df.head()"
   ]
  },
  {
   "cell_type": "code",
   "execution_count": null,
   "metadata": {
    "collapsed": true
   },
   "outputs": [],
   "source": [
    "# Safe reduced data frame (Community District level)"
   ]
  },
  {
   "cell_type": "markdown",
   "metadata": {},
   "source": [
    "(above)"
   ]
  },
  {
   "cell_type": "markdown",
   "metadata": {},
   "source": [
    "# 4. Think about the interpretation of your results?\n",
    "What do you have to keep in mind when interpreting your results? Are they generable? Does the way the data is collected influence your results? To better inform city agancies it might be good to explore in more detail the underlying dempgraphics/infrastructure of a Community District becasue this might influence 311 calls. You can do this by merging external data on the Community District level to your analysis data. "
   ]
  },
  {
   "cell_type": "code",
   "execution_count": 128,
   "metadata": {
    "collapsed": false
   },
   "outputs": [],
   "source": [
    "# Population by Community District\n",
    "df_pop = pd.read_csv(PUIdata + \"/Final_Demographics.csv\")"
   ]
  },
  {
   "cell_type": "code",
   "execution_count": 129,
   "metadata": {
    "collapsed": false
   },
   "outputs": [
    {
     "data": {
      "text/plain": [
       "Index([u'FIPS', u'cd_id', u'Total Population',\n",
       "       u'Population Density (per sq. mile)', u'% Total Population: Male',\n",
       "       u'% Total Population: 18 to 24 Years',\n",
       "       u'% Total Population: 25 to 34 Years',\n",
       "       u'% Total Population: 35 to 44 Years',\n",
       "       u'% Population 5 Years And Over: Speak Only English',\n",
       "       u'% Population 5 Years And Over: Spanish or Spanish Creole',\n",
       "       ...\n",
       "       u'Employed Civilian Population 16 Years And Over: Production, transportation, and material moving  occupations: Production occupations',\n",
       "       u'Employed Civilian Population 16 Years And Over: Production, transportation, and material moving  occupations: Transportation and material moving occupations',\n",
       "       u'% Employed Civilian Population 16 Years And Over: Management, professional, and related occupations',\n",
       "       u'% Employed Civilian Population 16 Years And Over: Service occupations',\n",
       "       u'% Employed Civilian Population 16 Years And Over: Sales and office occupations',\n",
       "       u'% Employed Civilian Population 16 Years And Over: Farming, fishing, and forestry occupations',\n",
       "       u'% Employed Civilian Population 16 Years And Over: Construction, extraction, and maintenance  occupations',\n",
       "       u'% Employed Civilian Population 16 Years And Over: Production, transportation, and material moving  occupations',\n",
       "       u'% Employed Civilian Population 16 Years And Over: Production, transportation, and material moving  occupations: Production occupations',\n",
       "       u'% Employed Civilian Population 16 Years And Over: Production, transportation, and material moving  occupations: Transportation and material moving occupations'],\n",
       "      dtype='object', length=158)"
      ]
     },
     "execution_count": 129,
     "metadata": {},
     "output_type": "execute_result"
    }
   ],
   "source": [
    "# Check variables in file\n",
    "df_pop.columns"
   ]
  },
  {
   "cell_type": "code",
   "execution_count": 130,
   "metadata": {
    "collapsed": false
   },
   "outputs": [
    {
     "name": "stdout",
     "output_type": "stream",
     "text": [
      "59 community districts\n"
     ]
    }
   ],
   "source": [
    "# How many community districts are in file? \n",
    "print len(df_pop['cd_id'].unique()), 'community districts'"
   ]
  },
  {
   "cell_type": "code",
   "execution_count": 131,
   "metadata": {
    "collapsed": false
   },
   "outputs": [
    {
     "name": "stdout",
     "output_type": "stream",
     "text": [
      "['% Total Population: Male', '% Total Population: 18 to 24 Years', '% Total Population: 25 to 34 Years', '% Total Population: 35 to 44 Years', 'cd_id']\n"
     ]
    }
   ],
   "source": [
    "# Manipulate data to get some information on demographics by Community District. \n",
    "# Think about who might be more likely to call 311\n",
    "pop_cols = [col for col in df_pop.columns if 'Total Population:' in col]\n",
    "pop_cols.append('cd_id')\n",
    "print pop_cols"
   ]
  },
  {
   "cell_type": "code",
   "execution_count": 132,
   "metadata": {
    "collapsed": true
   },
   "outputs": [],
   "source": [
    "# Save data frame\n",
    "df_pop = df_pop.loc[:, pop_cols]"
   ]
  },
  {
   "cell_type": "code",
   "execution_count": 133,
   "metadata": {
    "collapsed": false
   },
   "outputs": [
    {
     "data": {
      "text/html": [
       "<div>\n",
       "<table border=\"1\" class=\"dataframe\">\n",
       "  <thead>\n",
       "    <tr style=\"text-align: right;\">\n",
       "      <th></th>\n",
       "      <th>% Total Population: Male</th>\n",
       "      <th>% Total Population: 18 to 24 Years</th>\n",
       "      <th>% Total Population: 25 to 34 Years</th>\n",
       "      <th>% Total Population: 35 to 44 Years</th>\n",
       "      <th>cd_id</th>\n",
       "      <th>% Total Population: 17- or 45+ Years</th>\n",
       "    </tr>\n",
       "  </thead>\n",
       "  <tbody>\n",
       "    <tr>\n",
       "      <th>0</th>\n",
       "      <td>46.65</td>\n",
       "      <td>10.73</td>\n",
       "      <td>15.04</td>\n",
       "      <td>11.32</td>\n",
       "      <td>BX08</td>\n",
       "      <td>62.91</td>\n",
       "    </tr>\n",
       "    <tr>\n",
       "      <th>1</th>\n",
       "      <td>46.35</td>\n",
       "      <td>11.35</td>\n",
       "      <td>14.29</td>\n",
       "      <td>12.57</td>\n",
       "      <td>BX12</td>\n",
       "      <td>61.79</td>\n",
       "    </tr>\n",
       "    <tr>\n",
       "      <th>2</th>\n",
       "      <td>45.20</td>\n",
       "      <td>8.62</td>\n",
       "      <td>13.74</td>\n",
       "      <td>12.78</td>\n",
       "      <td>BX10</td>\n",
       "      <td>64.86</td>\n",
       "    </tr>\n",
       "    <tr>\n",
       "      <th>3</th>\n",
       "      <td>50.09</td>\n",
       "      <td>8.10</td>\n",
       "      <td>17.43</td>\n",
       "      <td>14.09</td>\n",
       "      <td>BX11</td>\n",
       "      <td>60.38</td>\n",
       "    </tr>\n",
       "    <tr>\n",
       "      <th>4</th>\n",
       "      <td>44.72</td>\n",
       "      <td>14.24</td>\n",
       "      <td>14.89</td>\n",
       "      <td>12.38</td>\n",
       "      <td>BX03</td>\n",
       "      <td>58.49</td>\n",
       "    </tr>\n",
       "  </tbody>\n",
       "</table>\n",
       "</div>"
      ],
      "text/plain": [
       "   % Total Population: Male  % Total Population: 18 to 24 Years  \\\n",
       "0                     46.65                               10.73   \n",
       "1                     46.35                               11.35   \n",
       "2                     45.20                                8.62   \n",
       "3                     50.09                                8.10   \n",
       "4                     44.72                               14.24   \n",
       "\n",
       "   % Total Population: 25 to 34 Years  % Total Population: 35 to 44 Years  \\\n",
       "0                               15.04                               11.32   \n",
       "1                               14.29                               12.57   \n",
       "2                               13.74                               12.78   \n",
       "3                               17.43                               14.09   \n",
       "4                               14.89                               12.38   \n",
       "\n",
       "  cd_id  % Total Population: 17- or 45+ Years  \n",
       "0  BX08                                 62.91  \n",
       "1  BX12                                 61.79  \n",
       "2  BX10                                 64.86  \n",
       "3  BX11                                 60.38  \n",
       "4  BX03                                 58.49  "
      ]
     },
     "execution_count": 133,
     "metadata": {},
     "output_type": "execute_result"
    }
   ],
   "source": [
    "# add a column for population of age 45+\n",
    "df_pop['% Total Population: 17- or 45+ Years'] = 100 - df_pop['% Total Population: 18 to 24 Years'] \\\n",
    " - df_pop['% Total Population: 25 to 34 Years']  - df_pop['% Total Population: 35 to 44 Years']\n",
    "df_pop.head()"
   ]
  },
  {
   "cell_type": "code",
   "execution_count": 134,
   "metadata": {
    "collapsed": false
   },
   "outputs": [
    {
     "data": {
      "text/html": [
       "<div>\n",
       "<table border=\"1\" class=\"dataframe\">\n",
       "  <thead>\n",
       "    <tr style=\"text-align: right;\">\n",
       "      <th></th>\n",
       "      <th>% Total Population: 18 to 24 Years</th>\n",
       "      <th>% Total Population: 25 to 34 Years</th>\n",
       "      <th>% Total Population: 35 to 44 Years</th>\n",
       "      <th>cd_id</th>\n",
       "      <th>% Total Population: 17- or 45+ Years</th>\n",
       "    </tr>\n",
       "  </thead>\n",
       "  <tbody>\n",
       "    <tr>\n",
       "      <th>0</th>\n",
       "      <td>10.73</td>\n",
       "      <td>15.04</td>\n",
       "      <td>11.32</td>\n",
       "      <td>BX08</td>\n",
       "      <td>62.91</td>\n",
       "    </tr>\n",
       "    <tr>\n",
       "      <th>1</th>\n",
       "      <td>11.35</td>\n",
       "      <td>14.29</td>\n",
       "      <td>12.57</td>\n",
       "      <td>BX12</td>\n",
       "      <td>61.79</td>\n",
       "    </tr>\n",
       "    <tr>\n",
       "      <th>2</th>\n",
       "      <td>8.62</td>\n",
       "      <td>13.74</td>\n",
       "      <td>12.78</td>\n",
       "      <td>BX10</td>\n",
       "      <td>64.86</td>\n",
       "    </tr>\n",
       "    <tr>\n",
       "      <th>3</th>\n",
       "      <td>8.10</td>\n",
       "      <td>17.43</td>\n",
       "      <td>14.09</td>\n",
       "      <td>BX11</td>\n",
       "      <td>60.38</td>\n",
       "    </tr>\n",
       "    <tr>\n",
       "      <th>4</th>\n",
       "      <td>14.24</td>\n",
       "      <td>14.89</td>\n",
       "      <td>12.38</td>\n",
       "      <td>BX03</td>\n",
       "      <td>58.49</td>\n",
       "    </tr>\n",
       "  </tbody>\n",
       "</table>\n",
       "</div>"
      ],
      "text/plain": [
       "   % Total Population: 18 to 24 Years  % Total Population: 25 to 34 Years  \\\n",
       "0                               10.73                               15.04   \n",
       "1                               11.35                               14.29   \n",
       "2                                8.62                               13.74   \n",
       "3                                8.10                               17.43   \n",
       "4                               14.24                               14.89   \n",
       "\n",
       "   % Total Population: 35 to 44 Years cd_id  \\\n",
       "0                               11.32  BX08   \n",
       "1                               12.57  BX12   \n",
       "2                               12.78  BX10   \n",
       "3                               14.09  BX11   \n",
       "4                               12.38  BX03   \n",
       "\n",
       "   % Total Population: 17- or 45+ Years  \n",
       "0                                 62.91  \n",
       "1                                 61.79  \n",
       "2                                 64.86  \n",
       "3                                 60.38  \n",
       "4                                 58.49  "
      ]
     },
     "execution_count": 134,
     "metadata": {},
     "output_type": "execute_result"
    }
   ],
   "source": [
    "df_pop.drop('% Total Population: Male', axis=1, inplace=True)\n",
    "df_pop.head()"
   ]
  },
  {
   "cell_type": "code",
   "execution_count": 199,
   "metadata": {
    "collapsed": false
   },
   "outputs": [
    {
     "data": {
      "text/plain": [
       "array(['BX08', 'BX12', 'BX10', 'BX11', 'BX03', 'BX06', 'BX07', 'BX05',\n",
       "       'BX04', 'BX09', 'BX01', 'BX02', 'MN12', 'MN09', 'MN10', 'MN11111',\n",
       "       'MN08', 'MN07', 'MN05', 'MN04', 'MN06', 'MN03', 'MN01', 'MN02',\n",
       "       'SI03', 'SI02', 'SI01', 'BK01', 'BK04', 'BK03', 'BK02', 'BK06',\n",
       "       'BK08', 'BK16', 'BK05', 'BK18', 'BK17', 'BK09', 'BK07', 'BK10',\n",
       "       'BK12', 'BK14', 'BK15', 'BK11', 'BK13', 'QN01', 'QN03', 'QN07',\n",
       "       'QN11', 'QN13', 'QN08', 'QN04', 'QN06', 'QN02', 'QN05', 'QN09',\n",
       "       'QN12', 'QN10', 'QN14'], dtype=object)"
      ]
     },
     "execution_count": 199,
     "metadata": {},
     "output_type": "execute_result"
    }
   ],
   "source": [
    "df_pop.cd_id.unique()"
   ]
  },
  {
   "cell_type": "code",
   "execution_count": 143,
   "metadata": {
    "collapsed": false
   },
   "outputs": [],
   "source": [
    "# Infrastructure by Community District\n",
    "df_infr = pd.read_csv(PUIdata + \"/ACS_Computer_Use_and_Internet_2014_1Year_Estimate.csv\")"
   ]
  },
  {
   "cell_type": "code",
   "execution_count": 144,
   "metadata": {
    "collapsed": false
   },
   "outputs": [
    {
     "data": {
      "text/plain": [
       "Index([u'FIPS', u'Geographic Identifier', u'Qualifying Name', u'Households',\n",
       "       u'Households: With An Internet Subscription',\n",
       "       u'Households: Dial-Up Alone', u'Households: Dsl',\n",
       "       u'Households: With Mobile Broadband',\n",
       "       u'Households: Without Mobile Broadband', u'Households: Cable Modem',\n",
       "       u'Households: With Mobile Broadband.1',\n",
       "       u'Households: Without Mobile Broadband.1', u'Households: Fiber-Optic',\n",
       "       u'Households: With Mobile Broadband.2',\n",
       "       u'Households: Without Mobile Broadband.2',\n",
       "       u'Households: Satellite Internet Service',\n",
       "       u'Households: With Mobile Broadband.3',\n",
       "       u'Households: Without Mobile Broadband.3',\n",
       "       u'Households: Two or More Fixed Broadband Types, or Other',\n",
       "       u'Households: With Mobile Broadband.4',\n",
       "       u'Households: Without Mobile Broadband.4',\n",
       "       u'Households: Mobile Broadband Alone or With Dialup',\n",
       "       u'Households: Internet Access Without A Subscription',\n",
       "       u'Households: No Internet Access',\n",
       "       u'% Households: With An Internet Subscription', u'Households.1',\n",
       "       u'Households: Has A Computer',\n",
       "       u'Households: With Dial-Up Internet Subscription Alone',\n",
       "       u'Households: With A Broadband Internet Subscription',\n",
       "       u'Households: Without An Internet Subscription',\n",
       "       u'Households: No Computer'],\n",
       "      dtype='object')"
      ]
     },
     "execution_count": 144,
     "metadata": {},
     "output_type": "execute_result"
    }
   ],
   "source": [
    "# Check variables in file\n",
    "df_infr.columns"
   ]
  },
  {
   "cell_type": "code",
   "execution_count": 145,
   "metadata": {
    "collapsed": false
   },
   "outputs": [
    {
     "name": "stdout",
     "output_type": "stream",
     "text": [
      "55 community districts\n",
      "59 rows\n"
     ]
    }
   ],
   "source": [
    "# How many community districts are in file? \n",
    "print len(df_infr['Qualifying Name'].unique()), 'community districts'\n",
    "print len(df_infr), 'rows'"
   ]
  },
  {
   "cell_type": "code",
   "execution_count": 146,
   "metadata": {
    "collapsed": false
   },
   "outputs": [
    {
     "data": {
      "text/plain": [
       "0     NYC-Bronx Community District 8--Riverdale, New...\n",
       "1     NYC-Bronx Community District 12--Wakefield, Ne...\n",
       "2     NYC-Bronx Community District 10--Co-op City, N...\n",
       "3     NYC-Bronx Community District 11--Pelham Parkwa...\n",
       "4     NYC-Bronx Community District 3 & 6--Belmont, N...\n",
       "5     NYC-Bronx Community District 3 & 6--Belmont, N...\n",
       "6     NYC-Bronx Community District 7--Bedford Park, ...\n",
       "7     NYC-Bronx Community District 5--Morris Heights...\n",
       "8     NYC-Bronx Community District 4--Concourse, New...\n",
       "9     NYC-Bronx Community District 9--Castle Hill, N...\n",
       "10    NYC-Bronx Community District 1 & 2--Hunts Poin...\n",
       "11    NYC-Bronx Community District 1 & 2--Hunts Poin...\n",
       "12    NYC-Manhattan Community District 12--Washingto...\n",
       "13    NYC-Manhattan Community District 9--Hamilton H...\n",
       "14    NYC-Manhattan Community District 10--Central H...\n",
       "15    NYC-Manhattan Community District 11--East Harl...\n",
       "16    NYC-Manhattan Community District 8--Upper East...\n",
       "17    NYC-Manhattan Community District 7--Upper West...\n",
       "18    NYC-Manhattan Community District 4 & 5--Chelse...\n",
       "19    NYC-Manhattan Community District 4 & 5--Chelse...\n",
       "20    NYC-Manhattan Community District 6--Murray Hil...\n",
       "21    NYC-Manhattan Community District 3--Chinatown ...\n",
       "22    NYC-Manhattan Community District 1 & 2--Batter...\n",
       "23    NYC-Manhattan Community District 1 & 2--Batter...\n",
       "24    NYC-Staten Island Community District 3--Totten...\n",
       "25    NYC-Staten Island Community District 2--New Sp...\n",
       "26    NYC-Staten Island Community District 1--Port R...\n",
       "27    NYC-Brooklyn Community District 1--Greenpoint ...\n",
       "28    NYC-Brooklyn Community District 4--Bushwick PU...\n",
       "29    NYC-Brooklyn Community District 3--Bedford-Stu...\n",
       "30    NYC-Brooklyn Community District 2--Brooklyn He...\n",
       "31    NYC-Brooklyn Community District 6--Park Slope,...\n",
       "32    NYC-Brooklyn Community District 8--Crown Heigh...\n",
       "33    NYC-Brooklyn Community District 16--Brownsvill...\n",
       "34    NYC-Brooklyn Community District 5--East New Yo...\n",
       "35    NYC-Brooklyn Community District 18--Canarsie &...\n",
       "36    NYC-Brooklyn Community District 17--East Flatb...\n",
       "37    NYC-Brooklyn Community District 9--Crown Heigh...\n",
       "38    NYC-Brooklyn Community District 7--Sunset Park...\n",
       "39    NYC-Brooklyn Community District 10--Bay Ridge ...\n",
       "40    NYC-Brooklyn Community District 12--Borough Pa...\n",
       "41    NYC-Brooklyn Community District 14--Flatbush &...\n",
       "42    NYC-Brooklyn Community District 15--Sheepshead...\n",
       "43    NYC-Brooklyn Community District 11--Bensonhurs...\n",
       "44    NYC-Brooklyn Community District 13--Brighton B...\n",
       "45    NYC-Queens Community District 1--Astoria & Lon...\n",
       "46    NYC-Queens Community District 3--Jackson Heigh...\n",
       "47    NYC-Queens Community District 7--Flushing, New...\n",
       "48    NYC-Queens Community District 11--Bayside, New...\n",
       "49    NYC-Queens Community District 13--Queens Villa...\n",
       "50    NYC-Queens Community District 8--Briarwood, Ne...\n",
       "51    NYC-Queens Community District 4--Elmhurst & So...\n",
       "52    NYC-Queens Community District 6--Forest Hills ...\n",
       "53    NYC-Queens Community District 2--Sunnyside & W...\n",
       "54    NYC-Queens Community District 5--Ridgewood, Ne...\n",
       "55    NYC-Queens Community District 9--Richmond Hill...\n",
       "56    NYC-Queens Community District 12--Jamaica, New...\n",
       "57    NYC-Queens Community District 10--Howard Beach...\n",
       "58    NYC-Queens Community District 14--Far Rockaway...\n",
       "Name: Qualifying Name, dtype: object"
      ]
     },
     "execution_count": 146,
     "metadata": {},
     "output_type": "execute_result"
    }
   ],
   "source": [
    "# which districts have twin records?\n",
    "df_infr['Qualifying Name']"
   ]
  },
  {
   "cell_type": "code",
   "execution_count": 147,
   "metadata": {
    "collapsed": false
   },
   "outputs": [],
   "source": [
    "# manual override for the twinned records\n",
    "# because we're going to convert values to '% of total', we don't need to worry about double counting populations\n",
    "df_infr.loc[4, 'Qualifying Name'] = 'NYC-Bronx Community District 3--Belmont, New York'\n",
    "df_infr.loc[5, 'Qualifying Name'] = 'NYC-Bronx Community District 6--Belmont, New York'\n",
    "df_infr.loc[10, 'Qualifying Name'] = 'NYC-Bronx Community District 1--Hunts Point, New York'\n",
    "df_infr.loc[11, 'Qualifying Name'] = 'NYC-Bronx Community District 2--Hunts Point, New York'\n",
    "df_infr.loc[18, 'Qualifying Name'] = 'NYC-Manhattan Community District 4--Chelsea, New York'\n",
    "df_infr.loc[19, 'Qualifying Name'] = 'NYC-Manhattan Community District 5--Chelsea, New York'\n",
    "df_infr.loc[22, 'Qualifying Name'] = 'NYC-Manhattan Community District 1--Battery Park City, New York'\n",
    "df_infr.loc[23, 'Qualifying Name'] = 'NYC-Manhattan Community District 2--Battery Park City, New York'"
   ]
  },
  {
   "cell_type": "code",
   "execution_count": 148,
   "metadata": {
    "collapsed": false
   },
   "outputs": [],
   "source": [
    "# Manipulate data to get some information on internet/broadband useage by Community District\n",
    "# Aggregate the mobile subscription data\n",
    "df_infr['%_mobile'] = map(lambda mobile, mobile1, mobile2, mobile3, mobile4, total:\n",
    "                          float(mobile + mobile1 + mobile2 + mobile3 + mobile4) / float(total),\n",
    "                          df_infr['Households: With Mobile Broadband'],\n",
    "                          df_infr['Households: With Mobile Broadband.1'],\n",
    "                          df_infr['Households: With Mobile Broadband.2'],\n",
    "                          df_infr['Households: With Mobile Broadband.3'],\n",
    "                          df_infr['Households: With Mobile Broadband.4'],\n",
    "                          df_infr['Households'])"
   ]
  },
  {
   "cell_type": "code",
   "execution_count": 149,
   "metadata": {
    "collapsed": false
   },
   "outputs": [],
   "source": [
    "# Aggregate internet type by high and low connections\n",
    "df_infr['%_highspeed'] = map(lambda broadband, total:\n",
    "                            float(broadband) / float(total),\n",
    "                            df_infr['Households: With A Broadband Internet Subscription'],\n",
    "                            df_infr['Households'])\n",
    "df_infr['%_lowspeed'] = map(lambda dialup, total:\n",
    "                            float(dialup) / float(total),\n",
    "                            df_infr['Households: With Dial-Up Internet Subscription Alone'],\n",
    "                            df_infr['Households'])"
   ]
  },
  {
   "cell_type": "code",
   "execution_count": 150,
   "metadata": {
    "collapsed": false
   },
   "outputs": [
    {
     "data": {
      "text/html": [
       "<div>\n",
       "<table border=\"1\" class=\"dataframe\">\n",
       "  <thead>\n",
       "    <tr style=\"text-align: right;\">\n",
       "      <th></th>\n",
       "      <th>Qualifying Name</th>\n",
       "      <th>%_mobile</th>\n",
       "      <th>%_highspeed</th>\n",
       "      <th>%_lowspeed</th>\n",
       "    </tr>\n",
       "  </thead>\n",
       "  <tbody>\n",
       "    <tr>\n",
       "      <th>0</th>\n",
       "      <td>NYC-Bronx Community District 8--Riverdale, New...</td>\n",
       "      <td>0.365386</td>\n",
       "      <td>0.736125</td>\n",
       "      <td>0.009611</td>\n",
       "    </tr>\n",
       "    <tr>\n",
       "      <th>1</th>\n",
       "      <td>NYC-Bronx Community District 12--Wakefield, Ne...</td>\n",
       "      <td>0.233906</td>\n",
       "      <td>0.701205</td>\n",
       "      <td>0.003971</td>\n",
       "    </tr>\n",
       "    <tr>\n",
       "      <th>2</th>\n",
       "      <td>NYC-Bronx Community District 10--Co-op City, N...</td>\n",
       "      <td>0.242827</td>\n",
       "      <td>0.687205</td>\n",
       "      <td>0.003358</td>\n",
       "    </tr>\n",
       "    <tr>\n",
       "      <th>3</th>\n",
       "      <td>NYC-Bronx Community District 11--Pelham Parkwa...</td>\n",
       "      <td>0.239259</td>\n",
       "      <td>0.696274</td>\n",
       "      <td>0.002716</td>\n",
       "    </tr>\n",
       "    <tr>\n",
       "      <th>4</th>\n",
       "      <td>NYC-Bronx Community District 3--Belmont, New York</td>\n",
       "      <td>0.259000</td>\n",
       "      <td>0.580443</td>\n",
       "      <td>0.001529</td>\n",
       "    </tr>\n",
       "  </tbody>\n",
       "</table>\n",
       "</div>"
      ],
      "text/plain": [
       "                                     Qualifying Name  %_mobile  %_highspeed  \\\n",
       "0  NYC-Bronx Community District 8--Riverdale, New...  0.365386     0.736125   \n",
       "1  NYC-Bronx Community District 12--Wakefield, Ne...  0.233906     0.701205   \n",
       "2  NYC-Bronx Community District 10--Co-op City, N...  0.242827     0.687205   \n",
       "3  NYC-Bronx Community District 11--Pelham Parkwa...  0.239259     0.696274   \n",
       "4  NYC-Bronx Community District 3--Belmont, New York  0.259000     0.580443   \n",
       "\n",
       "   %_lowspeed  \n",
       "0    0.009611  \n",
       "1    0.003971  \n",
       "2    0.003358  \n",
       "3    0.002716  \n",
       "4    0.001529  "
      ]
     },
     "execution_count": 150,
     "metadata": {},
     "output_type": "execute_result"
    }
   ],
   "source": [
    "# Save data frame \n",
    "df_infr.drop([u'FIPS', u'Geographic Identifier', u'Households',\n",
    "       u'Households: With An Internet Subscription',\n",
    "       u'Households: Dial-Up Alone', u'Households: Dsl',\n",
    "       u'Households: With Mobile Broadband',\n",
    "       u'Households: Without Mobile Broadband', u'Households: Cable Modem',\n",
    "       u'Households: With Mobile Broadband.1',\n",
    "       u'Households: Without Mobile Broadband.1', u'Households: Fiber-Optic',\n",
    "       u'Households: With Mobile Broadband.2',\n",
    "       u'Households: Without Mobile Broadband.2',\n",
    "       u'Households: Satellite Internet Service',\n",
    "       u'Households: With Mobile Broadband.3',\n",
    "       u'Households: Without Mobile Broadband.3',\n",
    "       u'Households: Two or More Fixed Broadband Types, or Other',\n",
    "       u'Households: With Mobile Broadband.4',\n",
    "       u'Households: Without Mobile Broadband.4',\n",
    "       u'Households: Mobile Broadband Alone or With Dialup',\n",
    "       u'Households: Internet Access Without A Subscription',\n",
    "       u'Households: No Internet Access',\n",
    "       u'% Households: With An Internet Subscription', u'Households.1',\n",
    "       u'Households: Has A Computer',\n",
    "       u'Households: With Dial-Up Internet Subscription Alone',\n",
    "       u'Households: With A Broadband Internet Subscription',\n",
    "       u'Households: Without An Internet Subscription',\n",
    "       u'Households: No Computer'], axis=1, inplace=True)\n",
    "df_infr.head()"
   ]
  },
  {
   "cell_type": "markdown",
   "metadata": {},
   "source": [
    "# 5. Inform your results by linking datasets\n",
    "Now you want to link the three data frames to produce summary statistics for Community Districts which show a high number of complaints vs. Community Districts which show a lower number of complaints. Please keep in mind that the identifiers used for the linkage (Community Dostrict IDs) should be recored the same way. Use regular expressions to harmonize the identifiers if possible. The identifiers should look like BK01, BK02, etc.\n",
    "https://docs.python.org/2/library/re.html"
   ]
  },
  {
   "cell_type": "code",
   "execution_count": 201,
   "metadata": {
    "collapsed": false
   },
   "outputs": [],
   "source": [
    "# normalizing function for community districts\n",
    "def map_cd(raw_cd):\n",
    "    \n",
    "    # first, extract the digit from the string, and append a '0' if necessary\n",
    "    cd_num = re.findall(r'\\d+', raw_cd)[0]\n",
    "    if len(cd_num) == 1:\n",
    "        cd_num = '0' + cd_num\n",
    "    else:\n",
    "        pass\n",
    "    \n",
    "    # now, append the correct borough\n",
    "    if 'bronx' in raw_cd.lower():\n",
    "        return 'BX' + cd_num\n",
    "    elif 'brooklyn' in raw_cd.lower():\n",
    "        return 'BK' + cd_num\n",
    "    elif 'manhattan' in raw_cd.lower():\n",
    "        return 'MN' + cd_num\n",
    "    elif 'queens' in raw_cd.lower():\n",
    "        return 'QN' + cd_num\n",
    "    else:\n",
    "        return 'SI' + cd_num"
   ]
  },
  {
   "cell_type": "code",
   "execution_count": 209,
   "metadata": {
    "collapsed": false
   },
   "outputs": [
    {
     "data": {
      "text/html": [
       "<div>\n",
       "<table border=\"1\" class=\"dataframe\">\n",
       "  <thead>\n",
       "    <tr style=\"text-align: right;\">\n",
       "      <th></th>\n",
       "      <th>complaint_count</th>\n",
       "      <th>cd_id</th>\n",
       "    </tr>\n",
       "    <tr>\n",
       "      <th>Community Board</th>\n",
       "      <th></th>\n",
       "      <th></th>\n",
       "    </tr>\n",
       "  </thead>\n",
       "  <tbody>\n",
       "    <tr>\n",
       "      <th>02 BRONX</th>\n",
       "      <td>219</td>\n",
       "      <td>BX02</td>\n",
       "    </tr>\n",
       "    <tr>\n",
       "      <th>13 BROOKLYN</th>\n",
       "      <td>261</td>\n",
       "      <td>BK13</td>\n",
       "    </tr>\n",
       "    <tr>\n",
       "      <th>01 BRONX</th>\n",
       "      <td>280</td>\n",
       "      <td>BX01</td>\n",
       "    </tr>\n",
       "    <tr>\n",
       "      <th>06 QUEENS</th>\n",
       "      <td>289</td>\n",
       "      <td>QN06</td>\n",
       "    </tr>\n",
       "    <tr>\n",
       "      <th>03 BRONX</th>\n",
       "      <td>294</td>\n",
       "      <td>BX03</td>\n",
       "    </tr>\n",
       "  </tbody>\n",
       "</table>\n",
       "</div>"
      ],
      "text/plain": [
       "                 complaint_count cd_id\n",
       "Community Board                       \n",
       "02 BRONX                     219  BX02\n",
       "13 BROOKLYN                  261  BK13\n",
       "01 BRONX                     280  BX01\n",
       "06 QUEENS                    289  QN06\n",
       "03 BRONX                     294  BX03"
      ]
     },
     "execution_count": 209,
     "metadata": {},
     "output_type": "execute_result"
    }
   ],
   "source": [
    "# Harmonize identifier of dataframe 1\n",
    "comm_df['cd_id'] = map(lambda cd: map_cd(cd), comm_df.index)\n",
    "comm_df.head()"
   ]
  },
  {
   "cell_type": "code",
   "execution_count": null,
   "metadata": {
    "collapsed": false
   },
   "outputs": [],
   "source": [
    "# Harmonize identifier of dataframe 2"
   ]
  },
  {
   "cell_type": "markdown",
   "metadata": {},
   "source": [
    "df_pop already formatted correctly"
   ]
  },
  {
   "cell_type": "code",
   "execution_count": 210,
   "metadata": {
    "collapsed": false
   },
   "outputs": [
    {
     "data": {
      "text/html": [
       "<div>\n",
       "<table border=\"1\" class=\"dataframe\">\n",
       "  <thead>\n",
       "    <tr style=\"text-align: right;\">\n",
       "      <th></th>\n",
       "      <th>%_mobile</th>\n",
       "      <th>%_highspeed</th>\n",
       "      <th>%_lowspeed</th>\n",
       "      <th>cd_id</th>\n",
       "    </tr>\n",
       "  </thead>\n",
       "  <tbody>\n",
       "    <tr>\n",
       "      <th>0</th>\n",
       "      <td>0.365386</td>\n",
       "      <td>0.736125</td>\n",
       "      <td>0.009611</td>\n",
       "      <td>BX08</td>\n",
       "    </tr>\n",
       "    <tr>\n",
       "      <th>1</th>\n",
       "      <td>0.233906</td>\n",
       "      <td>0.701205</td>\n",
       "      <td>0.003971</td>\n",
       "      <td>BX12</td>\n",
       "    </tr>\n",
       "    <tr>\n",
       "      <th>2</th>\n",
       "      <td>0.242827</td>\n",
       "      <td>0.687205</td>\n",
       "      <td>0.003358</td>\n",
       "      <td>BX10</td>\n",
       "    </tr>\n",
       "    <tr>\n",
       "      <th>3</th>\n",
       "      <td>0.239259</td>\n",
       "      <td>0.696274</td>\n",
       "      <td>0.002716</td>\n",
       "      <td>BX11</td>\n",
       "    </tr>\n",
       "    <tr>\n",
       "      <th>4</th>\n",
       "      <td>0.259000</td>\n",
       "      <td>0.580443</td>\n",
       "      <td>0.001529</td>\n",
       "      <td>BX03</td>\n",
       "    </tr>\n",
       "  </tbody>\n",
       "</table>\n",
       "</div>"
      ],
      "text/plain": [
       "   %_mobile  %_highspeed  %_lowspeed cd_id\n",
       "0  0.365386     0.736125    0.009611  BX08\n",
       "1  0.233906     0.701205    0.003971  BX12\n",
       "2  0.242827     0.687205    0.003358  BX10\n",
       "3  0.239259     0.696274    0.002716  BX11\n",
       "4  0.259000     0.580443    0.001529  BX03"
      ]
     },
     "execution_count": 210,
     "metadata": {},
     "output_type": "execute_result"
    }
   ],
   "source": [
    "# Harmonize identifier of dataframe 3\n",
    "df_infr['cd_id'] = map(lambda cd: map_cd(cd), df_infr['Qualifying Name'])\n",
    "df_infr.drop('Qualifying Name', axis=1, inplace=True)\n",
    "df_infr.head()"
   ]
  },
  {
   "cell_type": "code",
   "execution_count": 216,
   "metadata": {
    "collapsed": false
   },
   "outputs": [
    {
     "data": {
      "text/html": [
       "<div>\n",
       "<table border=\"1\" class=\"dataframe\">\n",
       "  <thead>\n",
       "    <tr style=\"text-align: right;\">\n",
       "      <th></th>\n",
       "      <th>complaint_count</th>\n",
       "      <th>cd_id</th>\n",
       "      <th>% Total Population: 18 to 24 Years</th>\n",
       "      <th>% Total Population: 25 to 34 Years</th>\n",
       "      <th>% Total Population: 35 to 44 Years</th>\n",
       "      <th>% Total Population: 17- or 45+ Years</th>\n",
       "      <th>%_mobile</th>\n",
       "      <th>%_highspeed</th>\n",
       "      <th>%_lowspeed</th>\n",
       "    </tr>\n",
       "  </thead>\n",
       "  <tbody>\n",
       "    <tr>\n",
       "      <th>0</th>\n",
       "      <td>219</td>\n",
       "      <td>BX02</td>\n",
       "      <td>12.76</td>\n",
       "      <td>18.26</td>\n",
       "      <td>12.04</td>\n",
       "      <td>56.94</td>\n",
       "      <td>0.287004</td>\n",
       "      <td>0.593167</td>\n",
       "      <td>0.000000</td>\n",
       "    </tr>\n",
       "    <tr>\n",
       "      <th>1</th>\n",
       "      <td>261</td>\n",
       "      <td>BK13</td>\n",
       "      <td>8.33</td>\n",
       "      <td>10.34</td>\n",
       "      <td>11.27</td>\n",
       "      <td>70.06</td>\n",
       "      <td>0.164167</td>\n",
       "      <td>0.611471</td>\n",
       "      <td>0.004238</td>\n",
       "    </tr>\n",
       "    <tr>\n",
       "      <th>2</th>\n",
       "      <td>280</td>\n",
       "      <td>BX01</td>\n",
       "      <td>12.76</td>\n",
       "      <td>18.26</td>\n",
       "      <td>12.04</td>\n",
       "      <td>56.94</td>\n",
       "      <td>0.287004</td>\n",
       "      <td>0.593167</td>\n",
       "      <td>0.000000</td>\n",
       "    </tr>\n",
       "    <tr>\n",
       "      <th>3</th>\n",
       "      <td>289</td>\n",
       "      <td>QN06</td>\n",
       "      <td>5.21</td>\n",
       "      <td>13.35</td>\n",
       "      <td>15.97</td>\n",
       "      <td>65.47</td>\n",
       "      <td>0.244125</td>\n",
       "      <td>0.806940</td>\n",
       "      <td>0.007859</td>\n",
       "    </tr>\n",
       "    <tr>\n",
       "      <th>4</th>\n",
       "      <td>294</td>\n",
       "      <td>BX03</td>\n",
       "      <td>14.24</td>\n",
       "      <td>14.89</td>\n",
       "      <td>12.38</td>\n",
       "      <td>58.49</td>\n",
       "      <td>0.259000</td>\n",
       "      <td>0.580443</td>\n",
       "      <td>0.001529</td>\n",
       "    </tr>\n",
       "  </tbody>\n",
       "</table>\n",
       "</div>"
      ],
      "text/plain": [
       "   complaint_count cd_id  % Total Population: 18 to 24 Years  \\\n",
       "0              219  BX02                               12.76   \n",
       "1              261  BK13                                8.33   \n",
       "2              280  BX01                               12.76   \n",
       "3              289  QN06                                5.21   \n",
       "4              294  BX03                               14.24   \n",
       "\n",
       "   % Total Population: 25 to 34 Years  % Total Population: 35 to 44 Years  \\\n",
       "0                               18.26                               12.04   \n",
       "1                               10.34                               11.27   \n",
       "2                               18.26                               12.04   \n",
       "3                               13.35                               15.97   \n",
       "4                               14.89                               12.38   \n",
       "\n",
       "   % Total Population: 17- or 45+ Years  %_mobile  %_highspeed  %_lowspeed  \n",
       "0                                 56.94  0.287004     0.593167    0.000000  \n",
       "1                                 70.06  0.164167     0.611471    0.004238  \n",
       "2                                 56.94  0.287004     0.593167    0.000000  \n",
       "3                                 65.47  0.244125     0.806940    0.007859  \n",
       "4                                 58.49  0.259000     0.580443    0.001529  "
      ]
     },
     "execution_count": 216,
     "metadata": {},
     "output_type": "execute_result"
    }
   ],
   "source": [
    "# Link the 3 dataframes\n",
    "df = comm_df.merge(df_pop, how='left', on='cd_id').merge(df_infr, how='left', on='cd_id')\n",
    "df.head()"
   ]
  },
  {
   "cell_type": "code",
   "execution_count": 243,
   "metadata": {
    "collapsed": false
   },
   "outputs": [
    {
     "data": {
      "image/png": "[encoded data removed]",
      "text/plain": [
       "<matplotlib.figure.Figure at 0x11edd2710>"
      ]
     },
     "metadata": {},
     "output_type": "display_data"
    }
   ],
   "source": [
    "# Are the demographics and infrastructure different in Community Districts that show more complaints than others?\n",
    "fig, axarr = plt.subplots(3)\n",
    "fig.set_size_inches(6,12)\n",
    "fig.subplots_adjust(hspace=.3)\n",
    "\n",
    "\n",
    "axarr[0].plot(df['% Total Population: 18 to 24 Years'], df['complaint_count'], '.')\n",
    "axarr[0].set_title('Impact of Young People in a Population on 311 Service Usage in NYC', fontsize=10)    \n",
    "axarr[0].set_xlabel('% Total Population: 18 to 24 Years', fontsize=8)\n",
    "axarr[0].set_ylabel('311 Complaint Count; 2010 to present', fontsize=8)\n",
    "\n",
    "axarr[1].plot(df['%_highspeed'] * 100, df['complaint_count'], '.')\n",
    "axarr[1].set_title('Impact of HIGH SPEED Internet Access on 311 Service Usage in NYC', fontsize=10)    \n",
    "axarr[1].set_xlabel('% of Households with High-speed Internet', fontsize=8)\n",
    "axarr[1].set_ylabel('311 Complaint Count; 2010 to present', fontsize=8)\n",
    "    \n",
    "axarr[2].plot(df['%_mobile'] * 100, df['complaint_count'], '.')\n",
    "axarr[2].set_title('Impact of MOBILE Internet Access on 311 Service Usage in NYC', fontsize=10)    \n",
    "axarr[2].set_xlabel('% of Households with Mobile Internet Access', fontsize=8)\n",
    "axarr[2].set_ylabel('311 Complaint Count; 2010 to present', fontsize=8)\n",
    "    \n",
    "plt.show()"
   ]
  },
  {
   "cell_type": "markdown",
   "metadata": {},
   "source": [
    "Some interesting results here. \n",
    "+ There seems to be a positive correlation between the portion of \"young people\" in a community district and the usage of the 311 service; districts with more young people have filed more 311 complaints. One would expect that the inverse is true as well - districts with an older demographic would be less active on 311. This pattern is likely due to demographics' *awareness* of the 311 service, and perhaps *level of comfort with technology*\n",
    "+ For both HIGH SPEED and MOBILE internet access, it appears that districts in the bottom three quartiles of internet access all use 311 at approximately the same rate. Only in the upper quartile of internet access do we notice a trend: these districts are less inclined to use the service. It's likely that these districts are wealthier, and tend to rely on paid/private services to address the issues that may normally be addressed by a 311 service."
   ]
  }
 ],
 "metadata": {
  "anaconda-cloud": {},
  "celltoolbar": "Raw Cell Format",
  "kernelspec": {
   "display_name": "Python [conda root]",
   "language": "python",
   "name": "conda-root-py"
  },
  "language_info": {
   "codemirror_mode": {
    "name": "ipython",
    "version": 2
   },
   "file_extension": ".py",
   "mimetype": "text/x-python",
   "name": "python",
   "nbconvert_exporter": "python",
   "pygments_lexer": "ipython2",
   "version": "2.7.12"
  }
 },
 "nbformat": 4,
 "nbformat_minor": 0
}
