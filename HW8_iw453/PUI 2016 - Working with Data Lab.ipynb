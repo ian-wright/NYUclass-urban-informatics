{
 "cells": [
  {
   "cell_type": "markdown",
   "metadata": {},
   "source": [
    "# Working with Data - Computer Lab for Guest Lecture Julia Lane\n",
    "\n",
    "In this computer lab we will learn more more details and practice data work to enhance the content of the lecture presented by Julia Lane on responsible data use. We will address a research question, think about data and measurement errors, and manipulate data. \n",
    "\n",
    "OUTLINE: \n",
    "1. Define a research question \n",
    "2. Think about what data are available \n",
    "3. Think about possible measurement errors \n",
    "4. Think about the interpretation of your results \n",
    "5. Inform your results by linking datasets "
   ]
  },
  {
   "cell_type": "markdown",
   "metadata": {
    "raw_mimetype": "text/markdown"
   },
   "source": [
    "# 1. Define a reserach question\n",
    "Which Community Districts in NYC show the highest number of complaints?\n",
    "\n",
    "# 2. Think about what data are available\n",
    "Find suitable data by searching the CUSP Data Catalog https://datahub.cusp.nyu.edu/catalog. You can use Urban Profiler to investigate the Metadata associated with each dataset. Using this tool will help you to decide which attributes of the data you need to answer your question so you don't have to load the entire dataset. "
   ]
  },
  {
   "cell_type": "code",
   "execution_count": 1,
   "metadata": {
    "collapsed": false
   },
   "outputs": [],
   "source": [
    "import os\n",
    "import pandas as pd\n",
    "import numpy as np\n",
    "import re\n",
    "PUIdata = os.getenv('PUIDATA')"
   ]
  },
  {
   "cell_type": "code",
   "execution_count": 3,
   "metadata": {
    "collapsed": false
   },
   "outputs": [
    {
     "data": {
      "text/plain": [
       "Index([u'Unique Key', u'Created Date', u'Closed Date', u'Agency',\n",
       "       u'Agency Name', u'Complaint Type', u'Descriptor', u'Location Type',\n",
       "       u'Incident Zip', u'Incident Address', u'Street Name', u'Cross Street 1',\n",
       "       u'Cross Street 2', u'Intersection Street 1', u'Intersection Street 2',\n",
       "       u'Address Type', u'City', u'Landmark', u'Facility Type', u'Status',\n",
       "       u'Due Date', u'Resolution Description',\n",
       "       u'Resolution Action Updated Date', u'Community Board', u'Borough',\n",
       "       u'X Coordinate (State Plane)', u'Y Coordinate (State Plane)',\n",
       "       u'Park Facility Name', u'Park Borough', u'School Name',\n",
       "       u'School Number', u'School Region', u'School Code',\n",
       "       u'School Phone Number', u'School Address', u'School City',\n",
       "       u'School State', u'School Zip', u'School Not Found',\n",
       "       u'School or Citywide Complaint', u'Vehicle Type',\n",
       "       u'Taxi Company Borough', u'Taxi Pick Up Location',\n",
       "       u'Bridge Highway Name', u'Bridge Highway Direction', u'Road Ramp',\n",
       "       u'Bridge Highway Segment', u'Garage Lot Name', u'Ferry Direction',\n",
       "       u'Ferry Terminal Name', u'Latitude', u'Longitude', u'Location'],\n",
       "      dtype='object')"
      ]
     },
     "execution_count": 3,
     "metadata": {},
     "output_type": "execute_result"
    }
   ],
   "source": [
    "# Load dataset\n",
    "df = pd.read_csv('https://data.cityofnewyork.us/resource/erm2-nwe9.csv')\n",
    "df.columns"
   ]
  },
  {
   "cell_type": "code",
   "execution_count": 15,
   "metadata": {
    "collapsed": false
   },
   "outputs": [
    {
     "data": {
      "text/html": [
       "<div>\n",
       "<table border=\"1\" class=\"dataframe\">\n",
       "  <thead>\n",
       "    <tr style=\"text-align: right;\">\n",
       "      <th></th>\n",
       "      <th>Unique Key</th>\n",
       "      <th>Created Date</th>\n",
       "      <th>Closed Date</th>\n",
       "      <th>Agency</th>\n",
       "      <th>Agency Name</th>\n",
       "      <th>Complaint Type</th>\n",
       "      <th>Descriptor</th>\n",
       "      <th>Location Type</th>\n",
       "      <th>Incident Zip</th>\n",
       "      <th>Incident Address</th>\n",
       "      <th>...</th>\n",
       "      <th>Bridge Highway Name</th>\n",
       "      <th>Bridge Highway Direction</th>\n",
       "      <th>Road Ramp</th>\n",
       "      <th>Bridge Highway Segment</th>\n",
       "      <th>Garage Lot Name</th>\n",
       "      <th>Ferry Direction</th>\n",
       "      <th>Ferry Terminal Name</th>\n",
       "      <th>Latitude</th>\n",
       "      <th>Longitude</th>\n",
       "      <th>Location</th>\n",
       "    </tr>\n",
       "  </thead>\n",
       "  <tbody>\n",
       "    <tr>\n",
       "      <th>0</th>\n",
       "      <td>34709083</td>\n",
       "      <td>11/05/2016 02:15:10 AM</td>\n",
       "      <td>NaN</td>\n",
       "      <td>NYPD</td>\n",
       "      <td>New York City Police Department</td>\n",
       "      <td>Noise - Street/Sidewalk</td>\n",
       "      <td>Loud Talking</td>\n",
       "      <td>Street/Sidewalk</td>\n",
       "      <td>11412.0</td>\n",
       "      <td>111-36 202 STREET</td>\n",
       "      <td>...</td>\n",
       "      <td>NaN</td>\n",
       "      <td>NaN</td>\n",
       "      <td>NaN</td>\n",
       "      <td>NaN</td>\n",
       "      <td>NaN</td>\n",
       "      <td>NaN</td>\n",
       "      <td>NaN</td>\n",
       "      <td>40.703981</td>\n",
       "      <td>-73.754472</td>\n",
       "      <td>(40.70398065039107, -73.75447219121821)</td>\n",
       "    </tr>\n",
       "    <tr>\n",
       "      <th>1</th>\n",
       "      <td>34708277</td>\n",
       "      <td>11/05/2016 02:15:00 AM</td>\n",
       "      <td>NaN</td>\n",
       "      <td>NYPD</td>\n",
       "      <td>New York City Police Department</td>\n",
       "      <td>Noise - Commercial</td>\n",
       "      <td>Loud Music/Party</td>\n",
       "      <td>Club/Bar/Restaurant</td>\n",
       "      <td>10031.0</td>\n",
       "      <td>3456 BROADWAY</td>\n",
       "      <td>...</td>\n",
       "      <td>NaN</td>\n",
       "      <td>NaN</td>\n",
       "      <td>NaN</td>\n",
       "      <td>NaN</td>\n",
       "      <td>NaN</td>\n",
       "      <td>NaN</td>\n",
       "      <td>NaN</td>\n",
       "      <td>40.823697</td>\n",
       "      <td>-73.952100</td>\n",
       "      <td>(40.82369744644234, -73.95210038803465)</td>\n",
       "    </tr>\n",
       "    <tr>\n",
       "      <th>2</th>\n",
       "      <td>34707436</td>\n",
       "      <td>11/05/2016 02:14:45 AM</td>\n",
       "      <td>11/05/2016 02:31:33 AM</td>\n",
       "      <td>NYPD</td>\n",
       "      <td>New York City Police Department</td>\n",
       "      <td>Noise - Residential</td>\n",
       "      <td>Loud Talking</td>\n",
       "      <td>Residential Building/House</td>\n",
       "      <td>10021.0</td>\n",
       "      <td>339 EAST 75 STREET</td>\n",
       "      <td>...</td>\n",
       "      <td>NaN</td>\n",
       "      <td>NaN</td>\n",
       "      <td>NaN</td>\n",
       "      <td>NaN</td>\n",
       "      <td>NaN</td>\n",
       "      <td>NaN</td>\n",
       "      <td>NaN</td>\n",
       "      <td>40.770339</td>\n",
       "      <td>-73.955940</td>\n",
       "      <td>(40.770338711034086, -73.95594037184684)</td>\n",
       "    </tr>\n",
       "    <tr>\n",
       "      <th>3</th>\n",
       "      <td>34708291</td>\n",
       "      <td>11/05/2016 02:14:25 AM</td>\n",
       "      <td>NaN</td>\n",
       "      <td>NYPD</td>\n",
       "      <td>New York City Police Department</td>\n",
       "      <td>Noise - Residential</td>\n",
       "      <td>Banging/Pounding</td>\n",
       "      <td>Residential Building/House</td>\n",
       "      <td>11206.0</td>\n",
       "      <td>834 PARK AVENUE</td>\n",
       "      <td>...</td>\n",
       "      <td>NaN</td>\n",
       "      <td>NaN</td>\n",
       "      <td>NaN</td>\n",
       "      <td>NaN</td>\n",
       "      <td>NaN</td>\n",
       "      <td>NaN</td>\n",
       "      <td>NaN</td>\n",
       "      <td>40.698458</td>\n",
       "      <td>-73.941808</td>\n",
       "      <td>(40.69845830781489, -73.94180763176239)</td>\n",
       "    </tr>\n",
       "    <tr>\n",
       "      <th>4</th>\n",
       "      <td>34707378</td>\n",
       "      <td>11/05/2016 02:14:05 AM</td>\n",
       "      <td>NaN</td>\n",
       "      <td>NYPD</td>\n",
       "      <td>New York City Police Department</td>\n",
       "      <td>Noise - Residential</td>\n",
       "      <td>Loud Music/Party</td>\n",
       "      <td>Residential Building/House</td>\n",
       "      <td>10453.0</td>\n",
       "      <td>1655 UNDERCLIFF AVENUE</td>\n",
       "      <td>...</td>\n",
       "      <td>NaN</td>\n",
       "      <td>NaN</td>\n",
       "      <td>NaN</td>\n",
       "      <td>NaN</td>\n",
       "      <td>NaN</td>\n",
       "      <td>NaN</td>\n",
       "      <td>NaN</td>\n",
       "      <td>40.849424</td>\n",
       "      <td>-73.921759</td>\n",
       "      <td>(40.84942350108444, -73.92175936542517)</td>\n",
       "    </tr>\n",
       "  </tbody>\n",
       "</table>\n",
       "<p>5 rows × 53 columns</p>\n",
       "</div>"
      ],
      "text/plain": [
       "   Unique Key            Created Date             Closed Date Agency  \\\n",
       "0    34709083  11/05/2016 02:15:10 AM                     NaN   NYPD   \n",
       "1    34708277  11/05/2016 02:15:00 AM                     NaN   NYPD   \n",
       "2    34707436  11/05/2016 02:14:45 AM  11/05/2016 02:31:33 AM   NYPD   \n",
       "3    34708291  11/05/2016 02:14:25 AM                     NaN   NYPD   \n",
       "4    34707378  11/05/2016 02:14:05 AM                     NaN   NYPD   \n",
       "\n",
       "                       Agency Name           Complaint Type        Descriptor  \\\n",
       "0  New York City Police Department  Noise - Street/Sidewalk      Loud Talking   \n",
       "1  New York City Police Department       Noise - Commercial  Loud Music/Party   \n",
       "2  New York City Police Department      Noise - Residential      Loud Talking   \n",
       "3  New York City Police Department      Noise - Residential  Banging/Pounding   \n",
       "4  New York City Police Department      Noise - Residential  Loud Music/Party   \n",
       "\n",
       "                Location Type  Incident Zip        Incident Address  \\\n",
       "0             Street/Sidewalk       11412.0       111-36 202 STREET   \n",
       "1         Club/Bar/Restaurant       10031.0           3456 BROADWAY   \n",
       "2  Residential Building/House       10021.0      339 EAST 75 STREET   \n",
       "3  Residential Building/House       11206.0         834 PARK AVENUE   \n",
       "4  Residential Building/House       10453.0  1655 UNDERCLIFF AVENUE   \n",
       "\n",
       "                     ...                    Bridge Highway Name  \\\n",
       "0                    ...                                    NaN   \n",
       "1                    ...                                    NaN   \n",
       "2                    ...                                    NaN   \n",
       "3                    ...                                    NaN   \n",
       "4                    ...                                    NaN   \n",
       "\n",
       "  Bridge Highway Direction Road Ramp Bridge Highway Segment Garage Lot Name  \\\n",
       "0                      NaN       NaN                    NaN             NaN   \n",
       "1                      NaN       NaN                    NaN             NaN   \n",
       "2                      NaN       NaN                    NaN             NaN   \n",
       "3                      NaN       NaN                    NaN             NaN   \n",
       "4                      NaN       NaN                    NaN             NaN   \n",
       "\n",
       "  Ferry Direction Ferry Terminal Name   Latitude  Longitude  \\\n",
       "0             NaN                 NaN  40.703981 -73.754472   \n",
       "1             NaN                 NaN  40.823697 -73.952100   \n",
       "2             NaN                 NaN  40.770339 -73.955940   \n",
       "3             NaN                 NaN  40.698458 -73.941808   \n",
       "4             NaN                 NaN  40.849424 -73.921759   \n",
       "\n",
       "                                   Location  \n",
       "0   (40.70398065039107, -73.75447219121821)  \n",
       "1   (40.82369744644234, -73.95210038803465)  \n",
       "2  (40.770338711034086, -73.95594037184684)  \n",
       "3   (40.69845830781489, -73.94180763176239)  \n",
       "4   (40.84942350108444, -73.92175936542517)  \n",
       "\n",
       "[5 rows x 53 columns]"
      ]
     },
     "execution_count": 15,
     "metadata": {},
     "output_type": "execute_result"
    }
   ],
   "source": [
    "df.head()"
   ]
  },
  {
   "cell_type": "markdown",
   "metadata": {},
   "source": [
    "# 3. Think about possible measurement errors\n",
    "Do you see any problems regarding possible measurement error? Think about who is represented in the data, ommissions, duplications, content error, missing data, etc. "
   ]
  },
  {
   "cell_type": "code",
   "execution_count": 5,
   "metadata": {
    "collapsed": false
   },
   "outputs": [
    {
     "name": "stdout",
     "output_type": "stream",
     "text": [
      "['QUEENS' 'MANHATTAN' 'BROOKLYN' 'BRONX' 'Unspecified' 'STATEN ISLAND']\n",
      "['12 QUEENS' '09 MANHATTAN' '08 MANHATTAN' '03 BROOKLYN' '05 BRONX'\n",
      " '02 BRONX' '03 MANHATTAN' '0 Unspecified' '14 BROOKLYN' '04 BROOKLYN'\n",
      " '18 BROOKLYN' '06 QUEENS' '05 BROOKLYN' '02 MANHATTAN' '06 MANHATTAN'\n",
      " '09 QUEENS' '11 MANHATTAN' '08 BROOKLYN' '06 BRONX' '02 QUEENS'\n",
      " '01 BROOKLYN' '01 QUEENS' '09 BROOKLYN' '12 MANHATTAN' '03 QUEENS'\n",
      " '03 BRONX' '04 QUEENS' '04 BRONX' '02 BROOKLYN' '11 QUEENS'\n",
      " '01 STATEN ISLAND' '08 QUEENS' '07 MANHATTAN' '10 MANHATTAN' '01 BRONX'\n",
      " '10 BROOKLYN' 'Unspecified QUEENS' '05 QUEENS' '09 BRONX' '04 MANHATTAN'\n",
      " '11 BROOKLYN' '08 BRONX' '07 BRONX' '07 QUEENS' '11 BRONX' '06 BROOKLYN'\n",
      " '12 BRONX' '15 BROOKLYN' '10 QUEENS' '17 BROOKLYN' '13 BROOKLYN'\n",
      " '16 BROOKLYN' '01 MANHATTAN' '14 QUEENS' '13 QUEENS' '07 BROOKLYN'\n",
      " '05 MANHATTAN' 'Unspecified BRONX' '12 BROOKLYN' 'Unspecified MANHATTAN'\n",
      " '02 STATEN ISLAND' '10 BRONX' '03 STATEN ISLAND' '26 BRONX'\n",
      " 'Unspecified BROOKLYN']\n"
     ]
    }
   ],
   "source": [
    "# Check if all Boroughs and Community Districts are represented in the Data \n",
    "print df['Borough'].unique()\n",
    "print df['Community Board'].unique()"
   ]
  },
  {
   "cell_type": "code",
   "execution_count": 6,
   "metadata": {
    "collapsed": false
   },
   "outputs": [
    {
     "name": "stdout",
     "output_type": "stream",
     "text": [
      "6 boroughs\n",
      "65 community districts\n"
     ]
    }
   ],
   "source": [
    "# How many unique values do we have? \n",
    "print len(df['Borough'].unique()), 'boroughs'\n",
    "print len(df['Community Board'].unique()), 'community districts'"
   ]
  },
  {
   "cell_type": "code",
   "execution_count": null,
   "metadata": {
    "collapsed": false
   },
   "outputs": [],
   "source": [
    "# Why do we have so many? Some of them are unspecified, missing. Some might be invalid entries. \n",
    "# We should have 59 Community Districts."
   ]
  },
  {
   "cell_type": "markdown",
   "metadata": {},
   "source": [
    "Looks like we have some garbage values in both the 'Borough' and 'Community Board' coloumns. Garbage values seem to have the string 'Unspecified' in them."
   ]
  },
  {
   "cell_type": "code",
   "execution_count": 11,
   "metadata": {
    "collapsed": false
   },
   "outputs": [
    {
     "name": "stdout",
     "output_type": "stream",
     "text": [
      "5 boroughs\n",
      "60 community districts\n"
     ]
    }
   ],
   "source": [
    "print len(df[~df['Borough'].str.contains('Unspecified')]['Borough'].unique()), 'boroughs'\n",
    "print len(df[~df['Community Board'].str.contains('Unspecified')]['Community Board'].unique()), 'community districts'"
   ]
  },
  {
   "cell_type": "code",
   "execution_count": 12,
   "metadata": {
    "collapsed": false
   },
   "outputs": [
    {
     "name": "stdout",
     "output_type": "stream",
     "text": [
      "['12 QUEENS' '09 MANHATTAN' '08 MANHATTAN' '03 BROOKLYN' '05 BRONX'\n",
      " '02 BRONX' '03 MANHATTAN' '14 BROOKLYN' '04 BROOKLYN' '18 BROOKLYN'\n",
      " '06 QUEENS' '05 BROOKLYN' '02 MANHATTAN' '06 MANHATTAN' '09 QUEENS'\n",
      " '11 MANHATTAN' '08 BROOKLYN' '06 BRONX' '02 QUEENS' '01 BROOKLYN'\n",
      " '01 QUEENS' '09 BROOKLYN' '12 MANHATTAN' '03 QUEENS' '03 BRONX'\n",
      " '04 QUEENS' '04 BRONX' '02 BROOKLYN' '11 QUEENS' '01 STATEN ISLAND'\n",
      " '08 QUEENS' '07 MANHATTAN' '10 MANHATTAN' '01 BRONX' '10 BROOKLYN'\n",
      " '05 QUEENS' '09 BRONX' '04 MANHATTAN' '11 BROOKLYN' '08 BRONX' '07 BRONX'\n",
      " '07 QUEENS' '11 BRONX' '06 BROOKLYN' '12 BRONX' '15 BROOKLYN' '10 QUEENS'\n",
      " '17 BROOKLYN' '13 BROOKLYN' '16 BROOKLYN' '01 MANHATTAN' '14 QUEENS'\n",
      " '13 QUEENS' '07 BROOKLYN' '05 MANHATTAN' '12 BROOKLYN' '02 STATEN ISLAND'\n",
      " '10 BRONX' '03 STATEN ISLAND' '26 BRONX']\n"
     ]
    }
   ],
   "source": [
    "print df[~df['Community Board'].str.contains('Unspecified')]['Community Board'].unique()"
   ]
  },
  {
   "cell_type": "markdown",
   "metadata": {},
   "source": [
    "With 'unspecified' removed, these all look good to me."
   ]
  },
  {
   "cell_type": "code",
   "execution_count": null,
   "metadata": {
    "collapsed": true
   },
   "outputs": [],
   "source": [
    "# Check for duplicates? Are these plausible?"
   ]
  },
  {
   "cell_type": "code",
   "execution_count": 14,
   "metadata": {
    "collapsed": false
   },
   "outputs": [
    {
     "data": {
      "text/plain": [
       "0"
      ]
     },
     "execution_count": 14,
     "metadata": {},
     "output_type": "execute_result"
    }
   ],
   "source": [
    "df.duplicated().sum()"
   ]
  },
  {
   "cell_type": "markdown",
   "metadata": {},
   "source": [
    "No duplicate records."
   ]
  },
  {
   "cell_type": "code",
   "execution_count": null,
   "metadata": {
    "collapsed": false
   },
   "outputs": [],
   "source": [
    "# What about missing values? Can you detect any patterns? "
   ]
  },
  {
   "cell_type": "code",
   "execution_count": null,
   "metadata": {
    "collapsed": true
   },
   "outputs": [],
   "source": [
    "# Data Editing: Is it possible to replace missing values? Is it possible to use Complaint Type \n",
    "# to fill missings in Resolution Descriptor?"
   ]
  },
  {
   "cell_type": "code",
   "execution_count": null,
   "metadata": {
    "collapsed": false
   },
   "outputs": [],
   "source": [
    "# Generate marker for unplausible Community Districts\n",
    "# How do these districts look like? "
   ]
  },
  {
   "cell_type": "markdown",
   "metadata": {},
   "source": [
    "See above re: 'Unspecified' strings."
   ]
  },
  {
   "cell_type": "code",
   "execution_count": null,
   "metadata": {
    "collapsed": true
   },
   "outputs": [],
   "source": [
    "# Drop the marked districts"
   ]
  },
  {
   "cell_type": "code",
   "execution_count": null,
   "metadata": {
    "collapsed": true
   },
   "outputs": [],
   "source": [
    "# Produce your result: Generate an indicator which ranks the Community District by complaint numbers \n",
    "# on the Community district level"
   ]
  },
  {
   "cell_type": "code",
   "execution_count": null,
   "metadata": {
    "collapsed": true
   },
   "outputs": [],
   "source": [
    "# Safe reduced data frame (Community District level)"
   ]
  },
  {
   "cell_type": "markdown",
   "metadata": {},
   "source": [
    "# 4. Think about the interpretation of your results?\n",
    "What do you have to keep in mind when interpreting your results? Are they generable? Does the way the data is collected influence your results? To better inform city agancies it might be good to explore in more detail the underlying dempgraphics/infrastructure of a Community District becasue this might influence 311 calls. You can do this by merging external data on the Community District level to your analysis data. "
   ]
  },
  {
   "cell_type": "code",
   "execution_count": null,
   "metadata": {
    "collapsed": false
   },
   "outputs": [],
   "source": [
    "# Population by Community District\n",
    "df_pop = pd.read_csv(PUIdata + \"/Final_Demographics.csv\")"
   ]
  },
  {
   "cell_type": "code",
   "execution_count": null,
   "metadata": {
    "collapsed": false
   },
   "outputs": [],
   "source": [
    "# Check variables in file"
   ]
  },
  {
   "cell_type": "code",
   "execution_count": null,
   "metadata": {
    "collapsed": false
   },
   "outputs": [],
   "source": [
    "# How many community districts are in file? "
   ]
  },
  {
   "cell_type": "code",
   "execution_count": null,
   "metadata": {
    "collapsed": true
   },
   "outputs": [],
   "source": [
    "# Manipulate data to get some information on demographics by Community District. \n",
    "# Think about who might be more likely to call 311"
   ]
  },
  {
   "cell_type": "code",
   "execution_count": null,
   "metadata": {
    "collapsed": true
   },
   "outputs": [],
   "source": [
    "# Save data frame"
   ]
  },
  {
   "cell_type": "code",
   "execution_count": null,
   "metadata": {
    "collapsed": false
   },
   "outputs": [],
   "source": [
    "# Infrastructure by Community District\n",
    "df_infr = pd.read_csv(PUIdata + \"/ACS_Computer_Use_and_Internet_2014_1Year_Estimate.csv\")"
   ]
  },
  {
   "cell_type": "code",
   "execution_count": null,
   "metadata": {
    "collapsed": false
   },
   "outputs": [],
   "source": [
    "# Check variables in file"
   ]
  },
  {
   "cell_type": "code",
   "execution_count": null,
   "metadata": {
    "collapsed": true
   },
   "outputs": [],
   "source": [
    "# How many community districts are in file? "
   ]
  },
  {
   "cell_type": "code",
   "execution_count": null,
   "metadata": {
    "collapsed": true
   },
   "outputs": [],
   "source": [
    "# Manipulate data to get some information on internet/broadband useage by Community District\n",
    "# Aggregate the mobile subscription data"
   ]
  },
  {
   "cell_type": "code",
   "execution_count": null,
   "metadata": {
    "collapsed": true
   },
   "outputs": [],
   "source": [
    "# Aggregate internet type by high and low connections"
   ]
  },
  {
   "cell_type": "code",
   "execution_count": null,
   "metadata": {
    "collapsed": true
   },
   "outputs": [],
   "source": [
    "# Save data frame "
   ]
  },
  {
   "cell_type": "markdown",
   "metadata": {},
   "source": [
    "# 5. Inform your results by linking datasets\n",
    "Now you want to link the three data frames to produce summary statistics for Community Districts which show a high number of complaints vs. Community Districts which show a lower number of complaints. Please keep in mind that the identifiers used for the linkage (Community Dostrict IDs) should be recored the same way. Use regular expressions to harmonize the identifiers if possible. The identifiers should look like BK01, BK02, etc.\n",
    "https://docs.python.org/2/library/re.html"
   ]
  },
  {
   "cell_type": "code",
   "execution_count": null,
   "metadata": {
    "collapsed": false
   },
   "outputs": [],
   "source": [
    "# Harmonize identifier of dataframe 1"
   ]
  },
  {
   "cell_type": "code",
   "execution_count": null,
   "metadata": {
    "collapsed": false
   },
   "outputs": [],
   "source": [
    "# Harmonize identifier of dataframe 2"
   ]
  },
  {
   "cell_type": "code",
   "execution_count": null,
   "metadata": {
    "collapsed": true
   },
   "outputs": [],
   "source": [
    "# Harmonize identifier of dataframe 3"
   ]
  },
  {
   "cell_type": "code",
   "execution_count": null,
   "metadata": {
    "collapsed": false
   },
   "outputs": [],
   "source": [
    "# Link the 3 dataframes"
   ]
  },
  {
   "cell_type": "code",
   "execution_count": null,
   "metadata": {
    "collapsed": true
   },
   "outputs": [],
   "source": [
    "# Are the demographics and infrastructure different in Community Districts that show more complaints than others?"
   ]
  }
 ],
 "metadata": {
  "anaconda-cloud": {},
  "celltoolbar": "Raw Cell Format",
  "kernelspec": {
   "display_name": "Python [conda root]",
   "language": "python",
   "name": "conda-root-py"
  },
  "language_info": {
   "codemirror_mode": {
    "name": "ipython",
    "version": 2
   },
   "file_extension": ".py",
   "mimetype": "text/x-python",
   "name": "python",
   "nbconvert_exporter": "python",
   "pygments_lexer": "ipython2",
   "version": "2.7.12"
  }
 },
 "nbformat": 4,
 "nbformat_minor": 0
}
